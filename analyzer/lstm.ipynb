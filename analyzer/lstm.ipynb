{
  "cells": [
    {
      "cell_type": "markdown",
      "metadata": {},
      "source": [
        "### Importing Dependencies"
      ]
    },
    {
      "cell_type": "code",
      "execution_count": 214,
      "metadata": {},
      "outputs": [],
      "source": [
        "import numpy as np\n",
        "import matplotlib.pyplot as plt\n",
        "import keras"
      ]
    },
    {
      "cell_type": "code",
      "execution_count": 215,
      "metadata": {},
      "outputs": [],
      "source": [
        "import pickle\n",
        "\n",
        "def load_set(directory):\n",
        "    try:\n",
        "        with open(f\"{directory}/texts.pkl\", \"rb\") as fp:\n",
        "            processed_texts = pickle.load(fp)\n",
        "        \n",
        "        with open(f\"{directory}/labels.pkl\", \"rb\") as fp:\n",
        "            labels = pickle.load(fp)\n",
        "    \n",
        "    except:\n",
        "        print(f'{directory} files not found. Please run the preprocess.ipynb before!')\n",
        "    \n",
        "    return processed_texts, labels"
      ]
    },
    {
      "cell_type": "code",
      "execution_count": 216,
      "metadata": {},
      "outputs": [],
      "source": [
        "processed_texts, labels = load_set('train')\n",
        "processed_val_texts, val_labels = load_set('val')\n",
        "processed_test_texts, test_labels = load_set('test')"
      ]
    },
    {
      "cell_type": "code",
      "execution_count": 217,
      "metadata": {},
      "outputs": [
        {
          "data": {
            "text/plain": [
              "['need advice appreciate people will will super aggressive control 6 month ago cheat girlfriend tell shortly feel like shit remind come get bad want stay thought linger way closure come thank advance hope y’ hate',\n",
              " 'dear Magic Eye Bot hate wanna T',\n",
              " 'teacher sub right wrong answer assignment clearly personal choice',\n",
              " 'officially close 30 year age 10 goodbye r teenager fun today reach age subreddit long target good thing care cause mind 12',\n",
              " 'sure royal family racism thing interesting you hear conspiracy kidnap child own cult shit wild surprised queen live']"
            ]
          },
          "execution_count": 217,
          "metadata": {},
          "output_type": "execute_result"
        }
      ],
      "source": [
        "processed_texts[:5]"
      ]
    },
    {
      "cell_type": "code",
      "execution_count": 218,
      "metadata": {},
      "outputs": [],
      "source": [
        "lengths = [len(processed_text) for processed_text in processed_texts if len(processed_text) < 2000]"
      ]
    },
    {
      "cell_type": "code",
      "execution_count": 219,
      "metadata": {},
      "outputs": [
        {
          "data": {
            "image/png": "[encoded data removed]",
            "text/plain": [
              "<Figure size 640x480 with 1 Axes>"
            ]
          },
          "metadata": {},
          "output_type": "display_data"
        }
      ],
      "source": [
        "plt.hist(lengths, bins=100)\n",
        "plt.show()"
      ]
    },
    {
      "cell_type": "markdown",
      "metadata": {},
      "source": [
        "### Creating the Model"
      ]
    },
    {
      "cell_type": "markdown",
      "metadata": {},
      "source": [
        "#### Vectorization"
      ]
    },
    {
      "cell_type": "code",
      "execution_count": 220,
      "metadata": {},
      "outputs": [],
      "source": [
        "TextVectorization = keras.layers.TextVectorization\n",
        "\n",
        "vectorize_layer = TextVectorization(\n",
        "    max_tokens=3000,\n",
        "    output_mode='int',\n",
        "    output_sequence_length=200,\n",
        ")\n",
        "\n",
        "vectorize_layer.adapt(processed_texts + processed_val_texts)"
      ]
    },
    {
      "cell_type": "code",
      "execution_count": 221,
      "metadata": {},
      "outputs": [],
      "source": [
        "vectorized_texts = vectorize_layer(processed_texts)"
      ]
    },
    {
      "cell_type": "code",
      "execution_count": 222,
      "metadata": {},
      "outputs": [],
      "source": [
        "vectorized_val_texts = vectorize_layer(processed_val_texts)"
      ]
    },
    {
      "cell_type": "markdown",
      "metadata": {},
      "source": [
        "#### Model 1"
      ]
    },
    {
      "cell_type": "code",
      "execution_count": 223,
      "metadata": {
        "id": "fpiP2_ojYrCA"
      },
      "outputs": [],
      "source": [
        "Sequential = keras.models.Sequential\n",
        "from keras_tuner import HyperParameters as hp\n",
        "from keras_tuner import RandomSearch\n",
        "\n",
        "# def build_model(hp):\n",
        "#     \"\"\"Base Model Bidirectional Layer LSTM cells with return sequence\"\"\"\n",
        "#     model = Sequential()\n",
        "#     model.add(keras.layers.Embedding(3000,16))\n",
        "#     for i in range(hp.Int('layers', 2,5)):\n",
        "#         keras.layers.Bidirectional(keras.layers.LSTM(units = hp.Int('units_' + str(i), min_value=10, max_value=30, step=10))),\n",
        "#     model.add(keras.layers.Dense(1, activation = hp.Choice('activation_' + str(i), ['sigmoid', 'softmax', 'hard_sigmoid', 'elu', 'leaky_relu'])))\n",
        "\n",
        "#     model.compile(\n",
        "#         loss='binary_crossentropy',\n",
        "#         optimizer='adam',\n",
        "#         metrics=['accuracy']\n",
        "#     )\n",
        "#     return model\n",
        "\n",
        "def build_model(hp):\n",
        "    \"\"\"Base Model Bidirectional Layer LSTM cells\"\"\"\n",
        "    model = Sequential([\n",
        "            keras.layers.Embedding(3000, 16),\n",
        "        keras.layers.Bidirectional(keras.layers.LSTM(units = hp.Int('units', min_value=10, max_value=100, step=10), return_sequences=True)),\n",
        "        keras.layers.Bidirectional(keras.layers.LSTM(units = hp.Int('units', min_value=10, max_value=100, step=10))),\n",
        "        keras.layers.Dense(1, activation = hp.Choice('activation', ['sigmoid', 'hard_sigmoid', 'elu', 'leaky_relu']))\n",
        "    ])\n",
        "\n",
        "    model.compile(\n",
        "        loss='binary_crossentropy',\n",
        "        optimizer='adam',\n",
        "        metrics=['accuracy']\n",
        "    )\n",
        "    return model"
      ]
    },
    {
      "cell_type": "code",
      "execution_count": 224,
      "metadata": {},
      "outputs": [
        {
          "name": "stdout",
          "output_type": "stream",
          "text": [
            "Search space summary\n",
            "Default search space size: 2\n",
            "units (Int)\n",
            "{'default': None, 'conditions': [], 'min_value': 10, 'max_value': 100, 'step': 10, 'sampling': 'linear'}\n",
            "activation (Choice)\n",
            "{'default': 'sigmoid', 'conditions': [], 'values': ['sigmoid', 'hard_sigmoid', 'elu', 'leaky_relu'], 'ordered': False}\n"
          ]
        }
      ],
      "source": [
        "tuner = RandomSearch(\n",
        "\tbuild_model,\n",
        "\tobjective='val_accuracy',\n",
        "\tmax_trials=5,\n",
        "\texecutions_per_trial=3,\n",
        "\tdirectory='../runs',\n",
        "\tproject_name='tuner1'\n",
        ")\n",
        "\n",
        "tuner.search_space_summary()"
      ]
    },
    {
      "cell_type": "code",
      "execution_count": 225,
      "metadata": {},
      "outputs": [
        {
          "name": "stdout",
          "output_type": "stream",
          "text": [
            "Trial 2 Complete [02h 12m 02s]\n",
            "val_accuracy: 0.6451510985692342\n",
            "\n",
            "Best val_accuracy So Far: 0.9366454084714254\n",
            "Total elapsed time: 03h 51m 57s\n",
            "\n",
            "Search: Running Trial #3\n",
            "\n",
            "Value             |Best Value So Far |Hyperparameter\n",
            "100               |10                |units\n",
            "hard_sigmoid      |leaky_relu        |activation\n",
            "\n",
            "Epoch 1/10\n",
            "\u001b[1m5802/5802\u001b[0m \u001b[32m━━━━━━━━━━━━━━━━━━━━\u001b[0m\u001b[37m\u001b[0m \u001b[1m0s\u001b[0m 217ms/step - accuracy: 0.8717 - loss: 0.3412"
          ]
        }
      ],
      "source": [
        "tuner.search(vectorized_texts, labels, epochs=10, validation_data=(vectorized_val_texts, val_labels), callbacks=[\n",
        "        keras.callbacks.EarlyStopping(monitor='val_accuracy', patience=3)\n",
        "    ])"
      ]
    },
    {
      "cell_type": "markdown",
      "metadata": {},
      "source": [
        "##### Tuner Results"
      ]
    },
    {
      "cell_type": "code",
      "execution_count": null,
      "metadata": {},
      "outputs": [],
      "source": [
        "# Bidirectional, LSTM\n",
        "tuner.results_summary()"
      ]
    },
    {
      "cell_type": "markdown",
      "metadata": {
        "id": "xKDxcT0RYrCA"
      },
      "source": [
        "##### Evaluating the Model"
      ]
    },
    {
      "cell_type": "code",
      "execution_count": null,
      "metadata": {
        "id": "Xlqh_jPkYrCA"
      },
      "outputs": [],
      "source": [
        "vectorized_test_texts = vectorize_layer(processed_test_texts)"
      ]
    },
    {
      "cell_type": "code",
      "execution_count": null,
      "metadata": {},
      "outputs": [],
      "source": [
        "best_model = tuner.get_best_models(num_models=3)"
      ]
    },
    {
      "cell_type": "code",
      "execution_count": null,
      "metadata": {},
      "outputs": [],
      "source": [
        "best_model = best_model[0] # You can decide which model to look at"
      ]
    },
    {
      "cell_type": "code",
      "execution_count": null,
      "metadata": {},
      "outputs": [],
      "source": [
        "best_model.summary()\n",
        "_ = best_model.evaluate(vectorized_test_texts, test_labels)"
      ]
    },
    {
      "cell_type": "code",
      "execution_count": null,
      "metadata": {
        "id": "U-4q-qsTYrCB"
      },
      "outputs": [],
      "source": [
        "y_pred = best_model.predict(vectorized_test_texts)\n",
        "y_pred = (y_pred > 0.5).astype(int)\n",
        "y_pred = np.array(list(map(lambda x: x[0], y_pred)))"
      ]
    },
    {
      "cell_type": "code",
      "execution_count": null,
      "metadata": {
        "id": "USN-oBMkYrCB"
      },
      "outputs": [],
      "source": [
        "from sklearn.metrics import confusion_matrix\n",
        "from sklearn.metrics import accuracy_score, precision_score, recall_score, f1_score\n",
        "\n",
        "tn, fp, fn, tp = confusion_matrix(test_labels, y_pred).ravel()\n",
        "\n",
        "fpr = fp / (fp + tn)\n",
        "print(f\"False Positive Rate: {fpr:.4f}\")\n",
        "\n",
        "fnr = fn / (fn + tp)\n",
        "print(f\"False Negative Rate: {fnr:.4f}\")\n",
        "\n",
        "print(f'accuracy_score {accuracy_score(test_labels, y_pred):.3f}')\n",
        "print(f'precision_score {precision_score(test_labels, y_pred):.3f}')\n",
        "print(f'recall_score {recall_score(test_labels, y_pred):.3f}')\n",
        "print(f'f1_score {f1_score(test_labels, y_pred):.3f}')"
      ]
    },
    {
      "cell_type": "code",
      "execution_count": null,
      "metadata": {
        "id": "6B1GRA5VYrCB"
      },
      "outputs": [],
      "source": [
        "from sklearn.metrics import ConfusionMatrixDisplay\n",
        "from sklearn.metrics import accuracy_score, precision_score, recall_score, f1_score\n",
        "\n",
        "ConfusionMatrixDisplay.from_predictions(test_labels, y_pred, normalize=\"true\",\n",
        "                                        values_format=\".0%\")\n",
        "plt.show()"
      ]
    }
  ],
  "metadata": {
    "accelerator": "GPU",
    "colab": {
      "gpuType": "T4",
      "provenance": []
    },
    "kernelspec": {
      "display_name": "Python 3",
      "name": "python3"
    },
    "language_info": {
      "codemirror_mode": {
        "name": "ipython",
        "version": 3
      },
      "file_extension": ".py",
      "mimetype": "text/x-python",
      "name": "python",
      "nbconvert_exporter": "python",
      "pygments_lexer": "ipython3",
      "version": "3.11.5"
    }
  },
  "nbformat": 4,
  "nbformat_minor": 0
}
