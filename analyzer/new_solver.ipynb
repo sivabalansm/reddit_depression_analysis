{
  "cells": [
    {
      "cell_type": "markdown",
      "metadata": {
        "id": "xVexig9wYrB6"
      },
      "source": [
        "### Importing the Dataset"
      ]
    },
    {
      "cell_type": "code",
      "execution_count": 1,
      "metadata": {
        "id": "GXeypmptYrB8"
      },
      "outputs": [],
      "source": [
        "import numpy as np\n",
        "import pandas as pd\n",
        "import keras\n",
        "\n",
        "posts = pd.read_csv(\"../data/Suicide_Detection.csv\")\n",
        "posts.drop([\"Unnamed: 0\"], axis=1, inplace=True)\n",
        "posts[[\"class\"]] = (posts[[\"class\"]] == \"suicide\").astype(\"int16\")"
      ]
    },
    {
      "cell_type": "code",
      "execution_count": 2,
      "metadata": {},
      "outputs": [
        {
          "data": {
            "text/plain": [
              "[]"
            ]
          },
          "execution_count": 2,
          "metadata": {},
          "output_type": "execute_result"
        }
      ],
      "source": [
        "import tensorflow as tf\n",
        "\n",
        "tf.config.list_physical_devices('GPU')"
      ]
    },
    {
      "cell_type": "markdown",
      "metadata": {
        "id": "ryphGKPIYrB8"
      },
      "source": [
        "### Exploring the Dataset"
      ]
    },
    {
      "cell_type": "code",
      "execution_count": 3,
      "metadata": {
        "colab": {
          "base_uri": "https://localhost:8080/",
          "height": 206
        },
        "id": "4hWvkEXaYrB9",
        "outputId": "4629d5fc-7bb9-468d-a1e6-783ee8be37d1"
      },
      "outputs": [
        {
          "data": {
            "text/html": [
              "<div>\n",
              "<style scoped>\n",
              "    .dataframe tbody tr th:only-of-type {\n",
              "        vertical-align: middle;\n",
              "    }\n",
              "\n",
              "    .dataframe tbody tr th {\n",
              "        vertical-align: top;\n",
              "    }\n",
              "\n",
              "    .dataframe thead th {\n",
              "        text-align: right;\n",
              "    }\n",
              "</style>\n",
              "<table border=\"1\" class=\"dataframe\">\n",
              "  <thead>\n",
              "    <tr style=\"text-align: right;\">\n",
              "      <th></th>\n",
              "      <th>text</th>\n",
              "      <th>class</th>\n",
              "    </tr>\n",
              "  </thead>\n",
              "  <tbody>\n",
              "    <tr>\n",
              "      <th>0</th>\n",
              "      <td>Ex Wife Threatening SuicideRecently I left my ...</td>\n",
              "      <td>1</td>\n",
              "    </tr>\n",
              "    <tr>\n",
              "      <th>1</th>\n",
              "      <td>Am I weird I don't get affected by compliments...</td>\n",
              "      <td>0</td>\n",
              "    </tr>\n",
              "    <tr>\n",
              "      <th>2</th>\n",
              "      <td>Finally 2020 is almost over... So I can never ...</td>\n",
              "      <td>0</td>\n",
              "    </tr>\n",
              "    <tr>\n",
              "      <th>3</th>\n",
              "      <td>i need helpjust help me im crying so hard</td>\n",
              "      <td>1</td>\n",
              "    </tr>\n",
              "    <tr>\n",
              "      <th>4</th>\n",
              "      <td>I’m so lostHello, my name is Adam (16) and I’v...</td>\n",
              "      <td>1</td>\n",
              "    </tr>\n",
              "  </tbody>\n",
              "</table>\n",
              "</div>"
            ],
            "text/plain": [
              "                                                text  class\n",
              "0  Ex Wife Threatening SuicideRecently I left my ...      1\n",
              "1  Am I weird I don't get affected by compliments...      0\n",
              "2  Finally 2020 is almost over... So I can never ...      0\n",
              "3          i need helpjust help me im crying so hard      1\n",
              "4  I’m so lostHello, my name is Adam (16) and I’v...      1"
            ]
          },
          "execution_count": 3,
          "metadata": {},
          "output_type": "execute_result"
        }
      ],
      "source": [
        "posts.head()"
      ]
    },
    {
      "cell_type": "code",
      "execution_count": 4,
      "metadata": {
        "colab": {
          "base_uri": "https://localhost:8080/",
          "height": 300
        },
        "id": "sLghn4BmYrB9",
        "outputId": "96124882-00ef-41f3-aedf-99cd9c7129e6"
      },
      "outputs": [
        {
          "data": {
            "text/html": [
              "<div>\n",
              "<style scoped>\n",
              "    .dataframe tbody tr th:only-of-type {\n",
              "        vertical-align: middle;\n",
              "    }\n",
              "\n",
              "    .dataframe tbody tr th {\n",
              "        vertical-align: top;\n",
              "    }\n",
              "\n",
              "    .dataframe thead th {\n",
              "        text-align: right;\n",
              "    }\n",
              "</style>\n",
              "<table border=\"1\" class=\"dataframe\">\n",
              "  <thead>\n",
              "    <tr style=\"text-align: right;\">\n",
              "      <th></th>\n",
              "      <th>class</th>\n",
              "    </tr>\n",
              "  </thead>\n",
              "  <tbody>\n",
              "    <tr>\n",
              "      <th>count</th>\n",
              "      <td>232074.000000</td>\n",
              "    </tr>\n",
              "    <tr>\n",
              "      <th>mean</th>\n",
              "      <td>0.500000</td>\n",
              "    </tr>\n",
              "    <tr>\n",
              "      <th>std</th>\n",
              "      <td>0.500001</td>\n",
              "    </tr>\n",
              "    <tr>\n",
              "      <th>min</th>\n",
              "      <td>0.000000</td>\n",
              "    </tr>\n",
              "    <tr>\n",
              "      <th>25%</th>\n",
              "      <td>0.000000</td>\n",
              "    </tr>\n",
              "    <tr>\n",
              "      <th>50%</th>\n",
              "      <td>0.500000</td>\n",
              "    </tr>\n",
              "    <tr>\n",
              "      <th>75%</th>\n",
              "      <td>1.000000</td>\n",
              "    </tr>\n",
              "    <tr>\n",
              "      <th>max</th>\n",
              "      <td>1.000000</td>\n",
              "    </tr>\n",
              "  </tbody>\n",
              "</table>\n",
              "</div>"
            ],
            "text/plain": [
              "               class\n",
              "count  232074.000000\n",
              "mean        0.500000\n",
              "std         0.500001\n",
              "min         0.000000\n",
              "25%         0.000000\n",
              "50%         0.500000\n",
              "75%         1.000000\n",
              "max         1.000000"
            ]
          },
          "execution_count": 4,
          "metadata": {},
          "output_type": "execute_result"
        }
      ],
      "source": [
        "posts.describe()"
      ]
    },
    {
      "cell_type": "markdown",
      "metadata": {
        "id": "nJBZk0iCYrB9"
      },
      "source": [
        "### Splitting the Dataset"
      ]
    },
    {
      "cell_type": "code",
      "execution_count": 5,
      "metadata": {
        "id": "Bg0p6FmCYrB9"
      },
      "outputs": [],
      "source": [
        "from sklearn.model_selection import train_test_split\n",
        "\n",
        "strat_train_set, strat_test_set = train_test_split(posts, test_size=0.1, random_state=42)"
      ]
    },
    {
      "cell_type": "markdown",
      "metadata": {
        "id": "0Yk4MC_4YrB9"
      },
      "source": [
        "#### Analyzing the Dataset"
      ]
    },
    {
      "cell_type": "code",
      "execution_count": 6,
      "metadata": {
        "colab": {
          "base_uri": "https://localhost:8080/",
          "height": 206
        },
        "id": "iJDyF2hLYrB-",
        "outputId": "8b40935b-2d6c-4374-b5f1-12d763020b84"
      },
      "outputs": [
        {
          "data": {
            "text/html": [
              "<div>\n",
              "<style scoped>\n",
              "    .dataframe tbody tr th:only-of-type {\n",
              "        vertical-align: middle;\n",
              "    }\n",
              "\n",
              "    .dataframe tbody tr th {\n",
              "        vertical-align: top;\n",
              "    }\n",
              "\n",
              "    .dataframe thead th {\n",
              "        text-align: right;\n",
              "    }\n",
              "</style>\n",
              "<table border=\"1\" class=\"dataframe\">\n",
              "  <thead>\n",
              "    <tr style=\"text-align: right;\">\n",
              "      <th></th>\n",
              "      <th>text</th>\n",
              "      <th>class</th>\n",
              "    </tr>\n",
              "  </thead>\n",
              "  <tbody>\n",
              "    <tr>\n",
              "      <th>186835</th>\n",
              "      <td>I don’t want to deal with this anymoreThere is...</td>\n",
              "      <td>1</td>\n",
              "    </tr>\n",
              "    <tr>\n",
              "      <th>216937</th>\n",
              "      <td>Bf thinks I am cheatingToday instead of waking...</td>\n",
              "      <td>1</td>\n",
              "    </tr>\n",
              "    <tr>\n",
              "      <th>176846</th>\n",
              "      <td>I hate myself...and I'm beginning to think eve...</td>\n",
              "      <td>1</td>\n",
              "    </tr>\n",
              "    <tr>\n",
              "      <th>49653</th>\n",
              "      <td>confession time s1eo5 about 9 years ago i stuc...</td>\n",
              "      <td>0</td>\n",
              "    </tr>\n",
              "    <tr>\n",
              "      <th>69140</th>\n",
              "      <td>After years of contemplation, I'm ready.**This...</td>\n",
              "      <td>1</td>\n",
              "    </tr>\n",
              "  </tbody>\n",
              "</table>\n",
              "</div>"
            ],
            "text/plain": [
              "                                                     text  class\n",
              "186835  I don’t want to deal with this anymoreThere is...      1\n",
              "216937  Bf thinks I am cheatingToday instead of waking...      1\n",
              "176846  I hate myself...and I'm beginning to think eve...      1\n",
              "49653   confession time s1eo5 about 9 years ago i stuc...      0\n",
              "69140   After years of contemplation, I'm ready.**This...      1"
            ]
          },
          "execution_count": 6,
          "metadata": {},
          "output_type": "execute_result"
        }
      ],
      "source": [
        "posts = strat_train_set.copy()\n",
        "posts.head()"
      ]
    },
    {
      "cell_type": "code",
      "execution_count": 7,
      "metadata": {
        "id": "FysKL3dwYrB-"
      },
      "outputs": [],
      "source": [
        "post_lengths = [len(post.split()) for post in posts[\"text\"]]"
      ]
    },
    {
      "cell_type": "code",
      "execution_count": 8,
      "metadata": {
        "colab": {
          "base_uri": "https://localhost:8080/"
        },
        "id": "XDC30B5mYrB-",
        "outputId": "069eb1ca-206e-4d08-c257-8ad58d547760"
      },
      "outputs": [
        {
          "data": {
            "text/plain": [
              "[231, 51, 102, 17, 1013, 156, 58, 34, 319, 39]"
            ]
          },
          "execution_count": 8,
          "metadata": {},
          "output_type": "execute_result"
        }
      ],
      "source": [
        "post_lengths[:10]"
      ]
    },
    {
      "cell_type": "code",
      "execution_count": 9,
      "metadata": {
        "colab": {
          "base_uri": "https://localhost:8080/",
          "height": 430
        },
        "id": "lmRQ8uoTYrB-",
        "outputId": "a9ace718-d543-4821-99c7-0aec21f7beae"
      },
      "outputs": [
        {
          "data": {
            "image/png": "[encoded data removed]",
            "text/plain": [
              "<Figure size 640x480 with 1 Axes>"
            ]
          },
          "metadata": {},
          "output_type": "display_data"
        }
      ],
      "source": [
        "import matplotlib.pyplot as plt\n",
        "\n",
        "plt.hist(post_lengths, bins=100)\n",
        "plt.show()"
      ]
    },
    {
      "cell_type": "markdown",
      "metadata": {
        "id": "nDHTf-pRYrB-"
      },
      "source": [
        "### Building the Classifier"
      ]
    },
    {
      "cell_type": "markdown",
      "metadata": {
        "id": "tetRLZLfYrB-"
      },
      "source": [
        "#### Spliting the dataset (again)"
      ]
    },
    {
      "cell_type": "code",
      "execution_count": 10,
      "metadata": {
        "colab": {
          "base_uri": "https://localhost:8080/"
        },
        "id": "JPwlqbqGYrB-",
        "outputId": "29cff7ff-9209-4ec5-e02d-584c35c54f64"
      },
      "outputs": [
        {
          "data": {
            "text/html": [
              "<div>\n",
              "<style scoped>\n",
              "    .dataframe tbody tr th:only-of-type {\n",
              "        vertical-align: middle;\n",
              "    }\n",
              "\n",
              "    .dataframe tbody tr th {\n",
              "        vertical-align: top;\n",
              "    }\n",
              "\n",
              "    .dataframe thead th {\n",
              "        text-align: right;\n",
              "    }\n",
              "</style>\n",
              "<table border=\"1\" class=\"dataframe\">\n",
              "  <thead>\n",
              "    <tr style=\"text-align: right;\">\n",
              "      <th></th>\n",
              "      <th>text</th>\n",
              "      <th>class</th>\n",
              "    </tr>\n",
              "  </thead>\n",
              "  <tbody>\n",
              "    <tr>\n",
              "      <th>185289</th>\n",
              "      <td>Need some advice I’d appreciate if people won’...</td>\n",
              "      <td>0</td>\n",
              "    </tr>\n",
              "    <tr>\n",
              "      <th>135507</th>\n",
              "      <td>Dear Magic Eye Bot I hate you,\\nI never wanna ...</td>\n",
              "      <td>0</td>\n",
              "    </tr>\n",
              "    <tr>\n",
              "      <th>213617</th>\n",
              "      <td>If there's any teachers in this sub Why do you...</td>\n",
              "      <td>0</td>\n",
              "    </tr>\n",
              "    <tr>\n",
              "      <th>137338</th>\n",
              "      <td>I am now officially closer to 30 years of age ...</td>\n",
              "      <td>0</td>\n",
              "    </tr>\n",
              "    <tr>\n",
              "      <th>20632</th>\n",
              "      <td>Sure the royal family racism thing is interest...</td>\n",
              "      <td>0</td>\n",
              "    </tr>\n",
              "  </tbody>\n",
              "</table>\n",
              "</div>"
            ],
            "text/plain": [
              "                                                     text  class\n",
              "185289  Need some advice I’d appreciate if people won’...      0\n",
              "135507  Dear Magic Eye Bot I hate you,\\nI never wanna ...      0\n",
              "213617  If there's any teachers in this sub Why do you...      0\n",
              "137338  I am now officially closer to 30 years of age ...      0\n",
              "20632   Sure the royal family racism thing is interest...      0"
            ]
          },
          "execution_count": 10,
          "metadata": {},
          "output_type": "execute_result"
        }
      ],
      "source": [
        "strat_train_set, strat_val_set = train_test_split(posts, test_size=1/9, random_state=1)\n",
        "\n",
        "strat_train_set[:5]"
      ]
    },
    {
      "cell_type": "markdown",
      "metadata": {
        "id": "eeCAiBryYrB_"
      },
      "source": [
        "#### Tokenizing the posts"
      ]
    },
    {
      "cell_type": "code",
      "execution_count": 32,
      "metadata": {
        "colab": {
          "base_uri": "https://localhost:8080/"
        },
        "id": "u4ZVKC1AYrB_",
        "outputId": "633a4d17-5a49-4ccd-d758-ee9f1ccbec9f"
      },
      "outputs": [
        {
          "data": {
            "text/plain": [
              "['transformer', 'tagger', 'parser', 'attribute_ruler', 'lemmatizer', 'ner']"
            ]
          },
          "execution_count": 32,
          "metadata": {},
          "output_type": "execute_result"
        }
      ],
      "source": [
        "import spacy\n",
        "\n",
        "nlp = spacy.load('en_core_web_trf', disable=['transformer', 'parser', 'ner'])\n",
        "nlp.pipe_names"
      ]
    },
    {
      "cell_type": "code",
      "execution_count": 43,
      "metadata": {},
      "outputs": [
        {
          "name": "stdout",
          "output_type": "stream",
          "text": [
            "Ragged(data=array([[-0.70687133, -0.59165096,  0.24616808, ...,  1.5665028 ,\n",
            "         0.1360929 , -0.92071015],\n",
            "       [-0.6120827 , -1.4775716 , -0.88755137, ..., -0.22585   ,\n",
            "         0.876766  , -0.04081748]], dtype=float32), lengths=array([1, 1]), data_shape=(-1, 768), starts_ends=None)\n",
            "Ragged(data=array([[-0.762537  , -0.8032595 ,  0.02780165, ...,  1.8398607 ,\n",
            "         0.03993908, -0.9114445 ],\n",
            "       [ 0.15094262,  0.5576442 , -0.35056505, ...,  2.3292165 ,\n",
            "         0.7934009 ,  0.79427475],\n",
            "       [-0.4022416 , -1.6063384 , -0.89673215, ..., -0.11787412,\n",
            "         0.80402535,  0.2646465 ]], dtype=float32), lengths=array([1, 1, 1]), data_shape=(-1, 768), starts_ends=None)\n"
          ]
        }
      ],
      "source": [
        "for doc in nlp.pipe([\"some text\", \"some other text\"]):\n",
        "    print(doc._.trf_data.last_hidden_layer_state)"
      ]
    },
    {
      "cell_type": "code",
      "execution_count": 24,
      "metadata": {
        "colab": {
          "base_uri": "https://localhost:8080/"
        },
        "id": "mY_wzV2IYrB_",
        "outputId": "5c84949c-1826-4510-e0ad-7a5637f9d5eb"
      },
      "outputs": [
        {
          "name": "stdout",
          "output_type": "stream",
          "text": [
            "['reading', 'paper']\n"
          ]
        }
      ],
      "source": [
        "doc = nlp('I was reading the paper.')\n",
        "print([token.lemma_ for token in doc if not token.is_stop and not token.is_punct])"
      ]
    },
    {
      "cell_type": "code",
      "execution_count": 25,
      "metadata": {},
      "outputs": [],
      "source": [
        "def preprocess_set(set):\n",
        "    texts = set.copy()['text']\n",
        "    labels = set.copy()['class']\n",
        "    texts = [' '.join(text.split()[:500]) for text in texts]\n",
        "\n",
        "    docs = (doc for doc in (nlp.pipe(texts)))\n",
        "    processed_texts = []\n",
        "    for doc in docs:\n",
        "        lemmas = [token.lemma_ for token in doc if not token.is_stop]\n",
        "        processed_texts.append(' '.join(lemmas))\n",
        "    \n",
        "    return processed_texts, labels"
      ]
    },
    {
      "cell_type": "code",
      "execution_count": 26,
      "metadata": {},
      "outputs": [
        {
          "data": {
            "text/plain": [
              "185658"
            ]
          },
          "execution_count": 26,
          "metadata": {},
          "output_type": "execute_result"
        }
      ],
      "source": [
        "len(strat_train_set)"
      ]
    },
    {
      "cell_type": "code",
      "execution_count": 27,
      "metadata": {},
      "outputs": [],
      "source": [
        "processed_texts, labels = preprocess_set(strat_train_set[:100])"
      ]
    },
    {
      "cell_type": "code",
      "execution_count": null,
      "metadata": {},
      "outputs": [],
      "source": [
        "processed_val_texts, val_labels = preprocess_set(strat_val_set)"
      ]
    },
    {
      "cell_type": "markdown",
      "metadata": {},
      "source": [
        "#### Creating the Tokenizer"
      ]
    },
    {
      "cell_type": "code",
      "execution_count": null,
      "metadata": {
        "id": "dp_jIDKV3mm8"
      },
      "outputs": [],
      "source": [
        "from keras_preprocessing.text import Tokenizer       # type: ignore\n",
        "\n",
        "tokenizer = Tokenizer(num_words=3000, oov_token='<UNK>')\n",
        "tokenizer.fit_on_texts(processed_texts)"
      ]
    },
    {
      "cell_type": "code",
      "execution_count": null,
      "metadata": {
        "id": "cRx-PRv2YrB_"
      },
      "outputs": [],
      "source": [
        "sequences = tokenizer.texts_to_sequences(processed_texts)"
      ]
    },
    {
      "cell_type": "code",
      "execution_count": null,
      "metadata": {
        "id": "01Q61iuTYrB_"
      },
      "outputs": [],
      "source": [
        "sequence_lengths = [len(sequence) for sequence in sequences if len(sequence) < 1000]"
      ]
    },
    {
      "cell_type": "code",
      "execution_count": null,
      "metadata": {
        "id": "BmEb9aO4YrB_"
      },
      "outputs": [
        {
          "data": {
            "image/png": "[encoded data removed]",
            "text/plain": [
              "<Figure size 640x480 with 1 Axes>"
            ]
          },
          "metadata": {},
          "output_type": "display_data"
        }
      ],
      "source": [
        "plt.hist(sequence_lengths, bins=100, color='blue', align='left')\n",
        "plt.xlabel('Sequence Length')\n",
        "plt.ylabel('Number of Texts')\n",
        "plt.title('Distribution of Sequence Lengths')\n",
        "plt.xlim(0, 200)\n",
        "plt.xticks(range(0, max(sequence_lengths) + 1, 100))\n",
        "plt.show()"
      ]
    },
    {
      "cell_type": "code",
      "execution_count": null,
      "metadata": {
        "id": "bT8abyEzYrB_"
      },
      "outputs": [],
      "source": [
        "from keras.preprocessing.sequence import pad_sequences\n",
        "\n",
        "max_len=200\n",
        "\n",
        "def get_sequences(tokenizer, texts):\n",
        "    sequences = tokenizer.texts_to_sequences(texts)\n",
        "    padded = pad_sequences(sequences, truncating='post', padding='post', maxlen=max_len)\n",
        "    return padded\n",
        "\n",
        "padded_train_seq = get_sequences(tokenizer, processed_texts)\n",
        "train_labels = np.array(labels)"
      ]
    },
    {
      "cell_type": "code",
      "execution_count": null,
      "metadata": {
        "id": "bOt3HsHuYrCA"
      },
      "outputs": [
        {
          "data": {
            "text/plain": [
              "[('<UNK>', 1),\n",
              " ('like', 2),\n",
              " ('want', 3),\n",
              " ('feel', 4),\n",
              " ('know', 5),\n",
              " ('life', 6),\n",
              " ('go', 7),\n",
              " ('think', 8),\n",
              " ('time', 9),\n",
              " ('people', 10)]"
            ]
          },
          "execution_count": 45,
          "metadata": {},
          "output_type": "execute_result"
        }
      ],
      "source": [
        "word_index = tokenizer.word_index\n",
        "\n",
        "sorted(word_index.items(), key=lambda x: x[1])[:10]"
      ]
    },
    {
      "cell_type": "markdown",
      "metadata": {
        "id": "knHAsJ6xYrCA"
      },
      "source": [
        "#### Creating the model"
      ]
    },
    {
      "cell_type": "code",
      "execution_count": null,
      "metadata": {
        "id": "fpiP2_ojYrCA"
      },
      "outputs": [],
      "source": [
        "Sequential = keras.models.Sequential\n",
        "\n",
        "model = Sequential([\n",
        "        keras.layers.Embedding(3000, 16),\n",
        "    keras.layers.Bidirectional(keras.layers.LSTM(20, return_sequences=True)),\n",
        "    keras.layers.Bidirectional(keras.layers.LSTM(20)),\n",
        "    keras.layers.Dense(2, activation='sigmoid')\n",
        "])\n",
        "\n",
        "model.compile(\n",
        "    loss='sparse_categorical_crossentropy',\n",
        "    optimizer='adam',\n",
        "    metrics=['accuracy']\n",
        ")"
      ]
    },
    {
      "cell_type": "code",
      "execution_count": null,
      "metadata": {
        "id": "NHKM2N0BYrCA"
      },
      "outputs": [
        {
          "data": {
            "text/plain": [
              "array([[  27,  243,  547, ...,    0,    0,    0],\n",
              "       [1700, 2253,  365, ...,    0,    0,    0],\n",
              "       [ 301,  416,   52, ...,    0,    0,    0],\n",
              "       ...,\n",
              "       [ 343,    5,  187, ...,    0,    0,    0],\n",
              "       [ 190,    6,   46, ...,    0,    0,    0],\n",
              "       [   5,   63,  524, ...,    0,    0,    0]])"
            ]
          },
          "execution_count": 47,
          "metadata": {},
          "output_type": "execute_result"
        }
      ],
      "source": [
        "padded_train_seq"
      ]
    },
    {
      "cell_type": "code",
      "execution_count": null,
      "metadata": {},
      "outputs": [
        {
          "data": {
            "text/plain": [
              "23208"
            ]
          },
          "execution_count": 48,
          "metadata": {},
          "output_type": "execute_result"
        }
      ],
      "source": [
        "len(processed_val_texts)"
      ]
    },
    {
      "cell_type": "code",
      "execution_count": null,
      "metadata": {
        "id": "2ZSivwMOYrCA"
      },
      "outputs": [
        {
          "name": "stdout",
          "output_type": "stream",
          "text": [
            "Epoch 1/20\n",
            "\u001b[1m5802/5802\u001b[0m \u001b[32m━━━━━━━━━━━━━━━━━━━━\u001b[0m\u001b[37m\u001b[0m \u001b[1m237s\u001b[0m 40ms/step - accuracy: 0.9029 - loss: 0.2365 - val_accuracy: 0.9348 - val_loss: 0.1749\n",
            "Epoch 2/20\n",
            "\u001b[1m5802/5802\u001b[0m \u001b[32m━━━━━━━━━━━━━━━━━━━━\u001b[0m\u001b[37m\u001b[0m \u001b[1m257s\u001b[0m 44ms/step - accuracy: 0.9405 - loss: 0.1566 - val_accuracy: 0.9383 - val_loss: 0.1691\n",
            "Epoch 3/20\n",
            "\u001b[1m5802/5802\u001b[0m \u001b[32m━━━━━━━━━━━━━━━━━━━━\u001b[0m\u001b[37m\u001b[0m \u001b[1m243s\u001b[0m 42ms/step - accuracy: 0.9457 - loss: 0.1448 - val_accuracy: 0.9389 - val_loss: 0.1601\n",
            "Epoch 4/20\n",
            "\u001b[1m5802/5802\u001b[0m \u001b[32m━━━━━━━━━━━━━━━━━━━━\u001b[0m\u001b[37m\u001b[0m \u001b[1m226s\u001b[0m 39ms/step - accuracy: 0.9495 - loss: 0.1343 - val_accuracy: 0.9406 - val_loss: 0.1573\n",
            "Epoch 5/20\n",
            "\u001b[1m5802/5802\u001b[0m \u001b[32m━━━━━━━━━━━━━━━━━━━━\u001b[0m\u001b[37m\u001b[0m \u001b[1m238s\u001b[0m 41ms/step - accuracy: 0.9523 - loss: 0.1272 - val_accuracy: 0.9415 - val_loss: 0.1568\n",
            "Epoch 6/20\n",
            "\u001b[1m5802/5802\u001b[0m \u001b[32m━━━━━━━━━━━━━━━━━━━━\u001b[0m\u001b[37m\u001b[0m \u001b[1m268s\u001b[0m 46ms/step - accuracy: 0.9551 - loss: 0.1183 - val_accuracy: 0.9404 - val_loss: 0.1569\n",
            "Epoch 7/20\n",
            "\u001b[1m5802/5802\u001b[0m \u001b[32m━━━━━━━━━━━━━━━━━━━━\u001b[0m\u001b[37m\u001b[0m \u001b[1m292s\u001b[0m 50ms/step - accuracy: 0.9582 - loss: 0.1112 - val_accuracy: 0.9396 - val_loss: 0.1632\n"
          ]
        }
      ],
      "source": [
        "val_seq = get_sequences(tokenizer, processed_val_texts)\n",
        "val_labels = np.array(val_labels)\n",
        "\n",
        "\n",
        "h = model.fit(\n",
        "    padded_train_seq, train_labels,\n",
        "    validation_data=(val_seq, val_labels),\n",
        "    epochs=20,\n",
        "    callbacks=[\n",
        "        keras.callbacks.EarlyStopping(monitor='val_accuracy', patience=2)\n",
        "    ]\n",
        ")"
      ]
    },
    {
      "cell_type": "markdown",
      "metadata": {
        "id": "xKDxcT0RYrCA"
      },
      "source": [
        "### Evaluating the Model"
      ]
    },
    {
      "cell_type": "code",
      "execution_count": null,
      "metadata": {
        "id": "JVWJegdLYrCA"
      },
      "outputs": [
        {
          "data": {
            "text/html": [
              "<pre style=\"white-space:pre;overflow-x:auto;line-height:normal;font-family:Menlo,'DejaVu Sans Mono',consolas,'Courier New',monospace\"><span style=\"font-weight: bold\">Model: \"sequential\"</span>\n",
              "</pre>\n"
            ],
            "text/plain": [
              "\u001b[1mModel: \"sequential\"\u001b[0m\n"
            ]
          },
          "metadata": {},
          "output_type": "display_data"
        },
        {
          "data": {
            "text/html": [
              "<pre style=\"white-space:pre;overflow-x:auto;line-height:normal;font-family:Menlo,'DejaVu Sans Mono',consolas,'Courier New',monospace\">┏━━━━━━━━━━━━━━━━━━━━━━━━━━━━━━━━━┳━━━━━━━━━━━━━━━━━━━━━━━━┳━━━━━━━━━━━━━━━┓\n",
              "┃<span style=\"font-weight: bold\"> Layer (type)                    </span>┃<span style=\"font-weight: bold\"> Output Shape           </span>┃<span style=\"font-weight: bold\">       Param # </span>┃\n",
              "┡━━━━━━━━━━━━━━━━━━━━━━━━━━━━━━━━━╇━━━━━━━━━━━━━━━━━━━━━━━━╇━━━━━━━━━━━━━━━┩\n",
              "│ embedding (<span style=\"color: #0087ff; text-decoration-color: #0087ff\">Embedding</span>)           │ (<span style=\"color: #00d7ff; text-decoration-color: #00d7ff\">None</span>, <span style=\"color: #00af00; text-decoration-color: #00af00\">200</span>, <span style=\"color: #00af00; text-decoration-color: #00af00\">16</span>)        │        <span style=\"color: #00af00; text-decoration-color: #00af00\">48,000</span> │\n",
              "├─────────────────────────────────┼────────────────────────┼───────────────┤\n",
              "│ bidirectional (<span style=\"color: #0087ff; text-decoration-color: #0087ff\">Bidirectional</span>)   │ (<span style=\"color: #00d7ff; text-decoration-color: #00d7ff\">None</span>, <span style=\"color: #00af00; text-decoration-color: #00af00\">200</span>, <span style=\"color: #00af00; text-decoration-color: #00af00\">40</span>)        │         <span style=\"color: #00af00; text-decoration-color: #00af00\">5,920</span> │\n",
              "├─────────────────────────────────┼────────────────────────┼───────────────┤\n",
              "│ bidirectional_1 (<span style=\"color: #0087ff; text-decoration-color: #0087ff\">Bidirectional</span>) │ (<span style=\"color: #00d7ff; text-decoration-color: #00d7ff\">None</span>, <span style=\"color: #00af00; text-decoration-color: #00af00\">40</span>)             │         <span style=\"color: #00af00; text-decoration-color: #00af00\">9,760</span> │\n",
              "├─────────────────────────────────┼────────────────────────┼───────────────┤\n",
              "│ dense (<span style=\"color: #0087ff; text-decoration-color: #0087ff\">Dense</span>)                   │ (<span style=\"color: #00d7ff; text-decoration-color: #00d7ff\">None</span>, <span style=\"color: #00af00; text-decoration-color: #00af00\">2</span>)              │            <span style=\"color: #00af00; text-decoration-color: #00af00\">82</span> │\n",
              "└─────────────────────────────────┴────────────────────────┴───────────────┘\n",
              "</pre>\n"
            ],
            "text/plain": [
              "┏━━━━━━━━━━━━━━━━━━━━━━━━━━━━━━━━━┳━━━━━━━━━━━━━━━━━━━━━━━━┳━━━━━━━━━━━━━━━┓\n",
              "┃\u001b[1m \u001b[0m\u001b[1mLayer (type)                   \u001b[0m\u001b[1m \u001b[0m┃\u001b[1m \u001b[0m\u001b[1mOutput Shape          \u001b[0m\u001b[1m \u001b[0m┃\u001b[1m \u001b[0m\u001b[1m      Param #\u001b[0m\u001b[1m \u001b[0m┃\n",
              "┡━━━━━━━━━━━━━━━━━━━━━━━━━━━━━━━━━╇━━━━━━━━━━━━━━━━━━━━━━━━╇━━━━━━━━━━━━━━━┩\n",
              "│ embedding (\u001b[38;5;33mEmbedding\u001b[0m)           │ (\u001b[38;5;45mNone\u001b[0m, \u001b[38;5;34m200\u001b[0m, \u001b[38;5;34m16\u001b[0m)        │        \u001b[38;5;34m48,000\u001b[0m │\n",
              "├─────────────────────────────────┼────────────────────────┼───────────────┤\n",
              "│ bidirectional (\u001b[38;5;33mBidirectional\u001b[0m)   │ (\u001b[38;5;45mNone\u001b[0m, \u001b[38;5;34m200\u001b[0m, \u001b[38;5;34m40\u001b[0m)        │         \u001b[38;5;34m5,920\u001b[0m │\n",
              "├─────────────────────────────────┼────────────────────────┼───────────────┤\n",
              "│ bidirectional_1 (\u001b[38;5;33mBidirectional\u001b[0m) │ (\u001b[38;5;45mNone\u001b[0m, \u001b[38;5;34m40\u001b[0m)             │         \u001b[38;5;34m9,760\u001b[0m │\n",
              "├─────────────────────────────────┼────────────────────────┼───────────────┤\n",
              "│ dense (\u001b[38;5;33mDense\u001b[0m)                   │ (\u001b[38;5;45mNone\u001b[0m, \u001b[38;5;34m2\u001b[0m)              │            \u001b[38;5;34m82\u001b[0m │\n",
              "└─────────────────────────────────┴────────────────────────┴───────────────┘\n"
            ]
          },
          "metadata": {},
          "output_type": "display_data"
        },
        {
          "data": {
            "text/html": [
              "<pre style=\"white-space:pre;overflow-x:auto;line-height:normal;font-family:Menlo,'DejaVu Sans Mono',consolas,'Courier New',monospace\"><span style=\"font-weight: bold\"> Total params: </span><span style=\"color: #00af00; text-decoration-color: #00af00\">191,288</span> (747.22 KB)\n",
              "</pre>\n"
            ],
            "text/plain": [
              "\u001b[1m Total params: \u001b[0m\u001b[38;5;34m191,288\u001b[0m (747.22 KB)\n"
            ]
          },
          "metadata": {},
          "output_type": "display_data"
        },
        {
          "data": {
            "text/html": [
              "<pre style=\"white-space:pre;overflow-x:auto;line-height:normal;font-family:Menlo,'DejaVu Sans Mono',consolas,'Courier New',monospace\"><span style=\"font-weight: bold\"> Trainable params: </span><span style=\"color: #00af00; text-decoration-color: #00af00\">63,762</span> (249.07 KB)\n",
              "</pre>\n"
            ],
            "text/plain": [
              "\u001b[1m Trainable params: \u001b[0m\u001b[38;5;34m63,762\u001b[0m (249.07 KB)\n"
            ]
          },
          "metadata": {},
          "output_type": "display_data"
        },
        {
          "data": {
            "text/html": [
              "<pre style=\"white-space:pre;overflow-x:auto;line-height:normal;font-family:Menlo,'DejaVu Sans Mono',consolas,'Courier New',monospace\"><span style=\"font-weight: bold\"> Non-trainable params: </span><span style=\"color: #00af00; text-decoration-color: #00af00\">0</span> (0.00 B)\n",
              "</pre>\n"
            ],
            "text/plain": [
              "\u001b[1m Non-trainable params: \u001b[0m\u001b[38;5;34m0\u001b[0m (0.00 B)\n"
            ]
          },
          "metadata": {},
          "output_type": "display_data"
        },
        {
          "data": {
            "text/html": [
              "<pre style=\"white-space:pre;overflow-x:auto;line-height:normal;font-family:Menlo,'DejaVu Sans Mono',consolas,'Courier New',monospace\"><span style=\"font-weight: bold\"> Optimizer params: </span><span style=\"color: #00af00; text-decoration-color: #00af00\">127,526</span> (498.15 KB)\n",
              "</pre>\n"
            ],
            "text/plain": [
              "\u001b[1m Optimizer params: \u001b[0m\u001b[38;5;34m127,526\u001b[0m (498.15 KB)\n"
            ]
          },
          "metadata": {},
          "output_type": "display_data"
        }
      ],
      "source": [
        "model.summary()"
      ]
    },
    {
      "cell_type": "code",
      "execution_count": null,
      "metadata": {
        "id": "Xlqh_jPkYrCA"
      },
      "outputs": [],
      "source": [
        "processed_test_texts, test_labels = preprocess_set(strat_test_set)\n",
        "\n",
        "test_seq = get_sequences(tokenizer, processed_test_texts)\n",
        "test_labels = np.array(test_labels)"
      ]
    },
    {
      "cell_type": "code",
      "execution_count": null,
      "metadata": {
        "id": "cukopLkPYrCA"
      },
      "outputs": [
        {
          "data": {
            "text/plain": [
              "(array([[   5,  333,   59, ...,    0,    0,    0],\n",
              "        [  38, 1265,   38, ...,    0,    0,    0],\n",
              "        [2041,    1,  208, ...,    0,    0,    0],\n",
              "        ...,\n",
              "        [ 563,  356, 2214, ...,    0,    0,    0],\n",
              "        [  53,    1,  164, ...,    0,    0,    0],\n",
              "        [  64,    9,   12, ...,    0,    0,    0]]),\n",
              " array([1, 0, 0, ..., 0, 1, 1], dtype=int16))"
            ]
          },
          "execution_count": 54,
          "metadata": {},
          "output_type": "execute_result"
        }
      ],
      "source": [
        "test_seq, test_labels"
      ]
    },
    {
      "cell_type": "code",
      "execution_count": null,
      "metadata": {
        "id": "BBWwAL6KYrCA"
      },
      "outputs": [
        {
          "name": "stdout",
          "output_type": "stream",
          "text": [
            "\u001b[1m726/726\u001b[0m \u001b[32m━━━━━━━━━━━━━━━━━━━━\u001b[0m\u001b[37m\u001b[0m \u001b[1m7s\u001b[0m 10ms/step - accuracy: 0.9434 - loss: 0.1549\n"
          ]
        }
      ],
      "source": [
        "_ = model.evaluate(test_seq, test_labels)"
      ]
    },
    {
      "cell_type": "code",
      "execution_count": null,
      "metadata": {
        "id": "U-4q-qsTYrCB"
      },
      "outputs": [
        {
          "name": "stdout",
          "output_type": "stream",
          "text": [
            "\u001b[1m726/726\u001b[0m \u001b[32m━━━━━━━━━━━━━━━━━━━━\u001b[0m\u001b[37m\u001b[0m \u001b[1m8s\u001b[0m 11ms/step\n"
          ]
        }
      ],
      "source": [
        "y_pred = model.predict(test_seq)\n",
        "y_pred = (y_pred > 0.5).astype(int)\n",
        "\n",
        "y_pred = np.array(list(map(lambda x: x[1], y_pred)))"
      ]
    },
    {
      "cell_type": "code",
      "execution_count": null,
      "metadata": {
        "id": "USN-oBMkYrCB"
      },
      "outputs": [
        {
          "name": "stdout",
          "output_type": "stream",
          "text": [
            "False Positive Rate: 0.0550\n",
            "False Negative Rate: 0.0631\n"
          ]
        }
      ],
      "source": [
        "from sklearn.metrics import confusion_matrix\n",
        "\n",
        "tn, fp, fn, tp = confusion_matrix(test_labels, y_pred).ravel()\n",
        "\n",
        "fpr = fp / (fp + tn)\n",
        "print(f\"False Positive Rate: {fpr:.4f}\")\n",
        "\n",
        "fnr = fn / (fn + tp)\n",
        "print(f\"False Negative Rate: {fnr:.4f}\")"
      ]
    },
    {
      "cell_type": "code",
      "execution_count": null,
      "metadata": {
        "id": "6B1GRA5VYrCB"
      },
      "outputs": [
        {
          "data": {
            "image/png": "[encoded data removed]",
            "text/plain": [
              "<Figure size 640x480 with 2 Axes>"
            ]
          },
          "metadata": {},
          "output_type": "display_data"
        }
      ],
      "source": [
        "from sklearn.metrics import ConfusionMatrixDisplay\n",
        "\n",
        "ConfusionMatrixDisplay.from_predictions(test_labels, y_pred, normalize=\"true\",\n",
        "                                        values_format=\".0%\")\n",
        "plt.show()"
      ]
    }
  ],
  "metadata": {
    "accelerator": "GPU",
    "colab": {
      "gpuType": "T4",
      "provenance": []
    },
    "kernelspec": {
      "display_name": "Python 3",
      "name": "python3"
    },
    "language_info": {
      "codemirror_mode": {
        "name": "ipython",
        "version": 3
      },
      "file_extension": ".py",
      "mimetype": "text/x-python",
      "name": "python",
      "nbconvert_exporter": "python",
      "pygments_lexer": "ipython3",
      "version": "3.11.9"
    }
  },
  "nbformat": 4,
  "nbformat_minor": 0
}
